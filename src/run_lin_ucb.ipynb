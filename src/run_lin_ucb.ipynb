{
 "cells": [
  {
   "cell_type": "code",
   "execution_count": 1,
   "metadata": {},
   "outputs": [],
   "source": [
    "import os\n",
    "import sys\n",
    "import numpy as np\n",
    "import pandas as pd\n",
    "import pyscipopt\n",
    "import pickle\n",
    "from pyscipopt import Model\n",
    "from sklearn.preprocessing import MinMaxScaler\n",
    "\n",
    "import matplotlib.pyplot as plt\n",
    "\n",
    "from data_loader import *\n",
    "from utils import *\n",
    "from bandit_utils import *\n",
    "\n",
    "from enviornment import Enviornment\n",
    "from reward import Reward\n",
    "from lin_ucb import LinUCB"
   ]
  },
  {
   "cell_type": "markdown",
   "metadata": {},
   "source": [
    "## Linear UCB on 1 minutes MIP instances"
   ]
  },
  {
   "cell_type": "code",
   "execution_count": 11,
   "metadata": {},
   "outputs": [],
   "source": [
    "time_limit_in_mins = 1"
   ]
  },
  {
   "cell_type": "code",
   "execution_count": 12,
   "metadata": {},
   "outputs": [],
   "source": [
    "actions = [{'veclendiving' : -1}, {'veclendiving' : 1}, {'veclendiving' : 10}]\n",
    "action_values = list(map(lambda x: list(x.values())[0], actions))\n",
    "\n",
    "seeds = [0,1,2,3,4]\n",
    "priority_or_freq = 'freq'\n",
    "min_time_to_solve = 0\n",
    "max_rows = 100000\n",
    "max_cols = 100000\n",
    "\n",
    "max_primal_integral = time_limit_in_mins * 60 # set to no primal bound found in time limit\n",
    "reward_path_prefix = '../solved_mip_results/rewards_' + str(time_limit_in_mins) +'_min/'\n",
    "\n",
    "# dimension of state\n",
    "state_dim = 5"
   ]
  },
  {
   "cell_type": "code",
   "execution_count": 13,
   "metadata": {},
   "outputs": [],
   "source": [
    "# training parameters\n",
    "episodes = 1000\n",
    "n_runs = 10\n",
    "seed = 1234\n",
    "\n",
    "# bandit parameters\n",
    "alpha = 0.5\n",
    "\n",
    "# init bandit\n",
    "bandit = LinUCB(action_values, state_dim, alpha)"
   ]
  },
  {
   "cell_type": "code",
   "execution_count": 14,
   "metadata": {},
   "outputs": [],
   "source": [
    "# load instances\n",
    "instances = get_instances(actions = actions, \n",
    "                          seeds = seeds, \n",
    "                          priority_or_freq = priority_or_freq, \n",
    "                          max_primal_integral = max_primal_integral,\n",
    "                          min_time_to_solve = min_time_to_solve,\n",
    "                          max_rows = max_rows,\n",
    "                          max_cols = max_cols,\n",
    "                          reward_path_prefix = reward_path_prefix)"
   ]
  },
  {
   "cell_type": "code",
   "execution_count": 15,
   "metadata": {},
   "outputs": [
    {
     "name": "stdout",
     "output_type": "stream",
     "text": [
      "Number of train instances: 239\n",
      "Number of test instances: 60\n"
     ]
    }
   ],
   "source": [
    "# get train/test split\n",
    "train_instances, test_instances = get_train_test_split(instances, seed=seed)\n",
    "\n",
    "print('Number of train instances:', len(train_instances))\n",
    "print('Number of test instances:', len(test_instances))"
   ]
  },
  {
   "cell_type": "code",
   "execution_count": 16,
   "metadata": {},
   "outputs": [],
   "source": [
    "# get scaler for training inputs\n",
    "scaler = get_scaler_normalize_train_states(train_instances)"
   ]
  },
  {
   "cell_type": "code",
   "execution_count": 17,
   "metadata": {},
   "outputs": [
    {
     "name": "stdout",
     "output_type": "stream",
     "text": [
      "Run: 1\n",
      "Run: 2\n",
      "Run: 3\n",
      "Run: 4\n",
      "Run: 5\n",
      "Run: 6\n",
      "Run: 7\n",
      "Run: 8\n",
      "Run: 9\n",
      "Run: 10\n"
     ]
    }
   ],
   "source": [
    "# init arrays to store results\n",
    "train_rewards = []\n",
    "train_actions = []\n",
    "test_rewards = []\n",
    "test_actions = []\n",
    "\n",
    "\n",
    "for run in range(n_runs):\n",
    "    \n",
    "    print('Run:', run+1)\n",
    "    np.random.seed(seed + run)\n",
    "    \n",
    "    train_rewards_ep = []\n",
    "    train_actions_ep = []\n",
    "\n",
    "    test_rewards_ep = []\n",
    "    test_actions_ep = []\n",
    "\n",
    "    for episode in range(episodes):\n",
    "        \n",
    "        if (episode + 1) % 100 == 0:\n",
    "            print('  episode:', episode + 1)\n",
    "\n",
    "        instance, state = get_random_instance(train_instances)\n",
    "\n",
    "        state = scaler.transform(state.reshape(1,state_dim)).reshape(state_dim,)\n",
    "        action = bandit.get_action(state)\n",
    "\n",
    "        reward = take_action_on_instance(instance, action, reward_path_prefix = reward_path_prefix)\n",
    "\n",
    "        bandit.update_params(reward, state, action)\n",
    "\n",
    "        train_reward, _ = eval_on_all(bandit, train_instances, reward_path_prefix=reward_path_prefix)\n",
    "        test_reward, _ = eval_on_all(bandit, test_instances, reward_path_prefix=reward_path_prefix)\n",
    "\n",
    "        train_rewards_ep.append(train_reward)\n",
    "        #train_actions.append(train_action)\n",
    "        test_rewards_ep.append(test_reward)\n",
    "        #test_actions.append(test_action)\n",
    "        \n",
    "    train_rewards.append(train_rewards_ep)\n",
    "    test_rewards.append(test_rewards_ep)"
   ]
  },
  {
   "cell_type": "code",
   "execution_count": 18,
   "metadata": {},
   "outputs": [],
   "source": [
    "# get mean results for train and test\n",
    "train_rewards_mean = np.mean(train_rewards, axis=0)\n",
    "test_rewards_mean = np.mean(test_rewards, axis=0)\n",
    "\n",
    "# get optimal rewards for train and test\n",
    "train_opt = compute_optimal_action_reward(train_instances, action_values, reward_path_prefix=reward_path_prefix)\n",
    "test_opt = compute_optimal_action_reward(test_instances, action_values, reward_path_prefix=reward_path_prefix)\n",
    "\n",
    "# get scip default rewards for train and test\n",
    "train_scip_reward = compute_scip_action_reward(train_instances, reward_path_prefix=reward_path_prefix)\n",
    "test_scip_reward = compute_scip_action_reward(test_instances, reward_path_prefix=reward_path_prefix)"
   ]
  },
  {
   "cell_type": "code",
   "execution_count": 25,
   "metadata": {},
   "outputs": [
    {
     "data": {
      "image/png": "[encoded data removed]",
      "text/plain": [
       "<Figure size 432x288 with 1 Axes>"
      ]
     },
     "metadata": {
      "needs_background": "light"
     },
     "output_type": "display_data"
    }
   ],
   "source": [
    "# plot train rewards\n",
    "plt.plot(train_rewards_mean, label = 'mean reward')\n",
    "plt.hlines(train_scip_reward, 0, episodes, linestyles='dashed', colors=['r'], label='SCIP default reward')\n",
    "plt.hlines(train_opt, 0, episodes, linestyles='dashed', colors=['g'], label='optimal reward')\n",
    "\n",
    "plt.legend()\n",
    "plt.xlabel('Episode')\n",
    "plt.ylabel('Reward')\n",
    "plt.title('Train reward per episode')\n",
    "\n",
    "plt.show()"
   ]
  },
  {
   "cell_type": "code",
   "execution_count": 26,
   "metadata": {},
   "outputs": [
    {
     "data": {
      "image/png": "[encoded data removed]",
      "text/plain": [
       "<Figure size 432x288 with 1 Axes>"
      ]
     },
     "metadata": {
      "needs_background": "light"
     },
     "output_type": "display_data"
    }
   ],
   "source": [
    "# plot test rewards\n",
    "plt.plot(test_rewards_mean, label = 'mean reward')\n",
    "plt.hlines(test_scip_reward, 0, episodes, linestyles='dashed', colors=['r'], label='SCIP default reward')\n",
    "plt.hlines(test_opt, 0, episodes, linestyles='dashed', colors=['g'], label='optimal reward')\n",
    "\n",
    "plt.ylabel('Reward')\n",
    "plt.title('Test reward per episode')\n",
    "\n",
    "plt.show()"
   ]
  },
  {
   "cell_type": "code",
   "execution_count": null,
   "metadata": {},
   "outputs": [],
   "source": []
  },
  {
   "cell_type": "code",
   "execution_count": null,
   "metadata": {},
   "outputs": [],
   "source": []
  },
  {
   "cell_type": "markdown",
   "metadata": {},
   "source": [
    "## Linear UCB on 5 minutes MIP instances"
   ]
  },
  {
   "cell_type": "code",
   "execution_count": 27,
   "metadata": {},
   "outputs": [],
   "source": [
    "time_limit_in_mins = 5"
   ]
  },
  {
   "cell_type": "code",
   "execution_count": 28,
   "metadata": {},
   "outputs": [],
   "source": [
    "actions = [{'veclendiving' : -1}, {'veclendiving' : 1}, {'veclendiving' : 10}]\n",
    "action_values = list(map(lambda x: list(x.values())[0], actions))\n",
    "\n",
    "seeds = [0,1,2,3,4]\n",
    "priority_or_freq = 'freq'\n",
    "min_time_to_solve = 0\n",
    "max_rows = 100000\n",
    "max_cols = 100000\n",
    "\n",
    "max_primal_integral = time_limit_in_mins * 60 # set to no primal bound found in time limit\n",
    "reward_path_prefix = '../solved_mip_results/rewards_' + str(time_limit_in_mins) +'_min/'\n",
    "\n",
    "# dimension of state\n",
    "state_dim = 5"
   ]
  },
  {
   "cell_type": "code",
   "execution_count": 29,
   "metadata": {},
   "outputs": [],
   "source": [
    "# training parameters\n",
    "episodes = 1000\n",
    "n_runs = 10\n",
    "seed = 1234\n",
    "\n",
    "# bandit parameters\n",
    "alpha = 0.5\n",
    "\n",
    "# init bandit\n",
    "bandit = LinUCB(action_values, state_dim, alpha)"
   ]
  },
  {
   "cell_type": "code",
   "execution_count": 30,
   "metadata": {},
   "outputs": [],
   "source": [
    "# load instances\n",
    "instances = get_instances(actions = actions, \n",
    "                          seeds = seeds, \n",
    "                          priority_or_freq = priority_or_freq, \n",
    "                          max_primal_integral = max_primal_integral,\n",
    "                          min_time_to_solve = min_time_to_solve,\n",
    "                          max_rows = max_rows,\n",
    "                          max_cols = max_cols,\n",
    "                          reward_path_prefix = reward_path_prefix)"
   ]
  },
  {
   "cell_type": "code",
   "execution_count": 31,
   "metadata": {},
   "outputs": [
    {
     "name": "stdout",
     "output_type": "stream",
     "text": [
      "Number of train instances: 273\n",
      "Number of test instances: 69\n"
     ]
    }
   ],
   "source": [
    "# get train/test split\n",
    "train_instances, test_instances = get_train_test_split(instances, seed=seed)\n",
    "\n",
    "print('Number of train instances:', len(train_instances))\n",
    "print('Number of test instances:', len(test_instances))"
   ]
  },
  {
   "cell_type": "code",
   "execution_count": 32,
   "metadata": {},
   "outputs": [],
   "source": [
    "# get scaler for training inputs\n",
    "scaler = get_scaler_normalize_train_states(train_instances)"
   ]
  },
  {
   "cell_type": "code",
   "execution_count": 33,
   "metadata": {},
   "outputs": [
    {
     "name": "stdout",
     "output_type": "stream",
     "text": [
      "Run: 1\n",
      "Run: 2\n",
      "Run: 3\n",
      "Run: 4\n",
      "Run: 5\n",
      "Run: 6\n",
      "Run: 7\n",
      "Run: 8\n",
      "Run: 9\n",
      "Run: 10\n"
     ]
    }
   ],
   "source": [
    "# init arrays to store results\n",
    "train_rewards = []\n",
    "train_actions = []\n",
    "test_rewards = []\n",
    "test_actions = []\n",
    "\n",
    "\n",
    "for run in range(n_runs):\n",
    "    \n",
    "    print('Run:', run+1)\n",
    "    np.random.seed(seed + run)\n",
    "    \n",
    "    train_rewards_ep = []\n",
    "    train_actions_ep = []\n",
    "\n",
    "    test_rewards_ep = []\n",
    "    test_actions_ep = []\n",
    "\n",
    "    for episode in range(episodes):\n",
    "        \n",
    "        if (episode + 1) % 100 == 0:\n",
    "            print('  episode:', episode + 1)\n",
    "\n",
    "        instance, state = get_random_instance(train_instances)\n",
    "\n",
    "        state = scaler.transform(state.reshape(1,state_dim)).reshape(state_dim,)\n",
    "        action = bandit.get_action(state)\n",
    "\n",
    "        reward = take_action_on_instance(instance, action, reward_path_prefix = reward_path_prefix)\n",
    "\n",
    "        bandit.update_params(reward, state, action)\n",
    "\n",
    "        train_reward, _ = eval_on_all(bandit, train_instances, reward_path_prefix=reward_path_prefix)\n",
    "        test_reward, _ = eval_on_all(bandit, test_instances, reward_path_prefix=reward_path_prefix)\n",
    "\n",
    "        train_rewards_ep.append(train_reward)\n",
    "        #train_actions.append(train_action)\n",
    "        test_rewards_ep.append(test_reward)\n",
    "        #test_actions.append(test_action)\n",
    "        \n",
    "    train_rewards.append(train_rewards_ep)\n",
    "    test_rewards.append(test_rewards_ep)"
   ]
  },
  {
   "cell_type": "code",
   "execution_count": 34,
   "metadata": {},
   "outputs": [],
   "source": [
    "# get mean results for train and test\n",
    "train_rewards_mean = np.mean(train_rewards, axis=0)\n",
    "test_rewards_mean = np.mean(test_rewards, axis=0)\n",
    "\n",
    "# get optimal rewards for train and test\n",
    "train_opt = compute_optimal_action_reward(train_instances, action_values, reward_path_prefix=reward_path_prefix)\n",
    "test_opt = compute_optimal_action_reward(test_instances, action_values, reward_path_prefix=reward_path_prefix)\n",
    "\n",
    "# get scip default rewards for train and test\n",
    "train_scip_reward = compute_scip_action_reward(train_instances, reward_path_prefix=reward_path_prefix)\n",
    "test_scip_reward = compute_scip_action_reward(test_instances, reward_path_prefix=reward_path_prefix)"
   ]
  },
  {
   "cell_type": "code",
   "execution_count": 35,
   "metadata": {},
   "outputs": [
    {
     "data": {
      "image/png": "[encoded data removed]",
      "text/plain": [
       "<Figure size 432x288 with 1 Axes>"
      ]
     },
     "metadata": {
      "needs_background": "light"
     },
     "output_type": "display_data"
    }
   ],
   "source": [
    "# plot train rewards\n",
    "plt.plot(train_rewards_mean, label = 'mean reward')\n",
    "plt.hlines(train_scip_reward, 0, episodes, linestyles='dashed', colors=['r'], label='SCIP default reward')\n",
    "plt.hlines(train_opt, 0, episodes, linestyles='dashed', colors=['g'], label='optimal reward')\n",
    "\n",
    "plt.legend()\n",
    "plt.xlabel('Episode')\n",
    "plt.ylabel('Reward')\n",
    "plt.title('Train reward per episode')\n",
    "\n",
    "plt.show()"
   ]
  },
  {
   "cell_type": "code",
   "execution_count": 36,
   "metadata": {},
   "outputs": [
    {
     "data": {
      "image/png": "[encoded data removed]",
      "text/plain": [
       "<Figure size 432x288 with 1 Axes>"
      ]
     },
     "metadata": {
      "needs_background": "light"
     },
     "output_type": "display_data"
    }
   ],
   "source": [
    "# plot test rewards\n",
    "plt.plot(test_rewards_mean, label = 'mean reward')\n",
    "plt.hlines(test_scip_reward, 0, episodes, linestyles='dashed', colors=['r'], label='SCIP default reward')\n",
    "plt.hlines(test_opt, 0, episodes, linestyles='dashed', colors=['g'], label='optimal reward')\n",
    "\n",
    "plt.ylabel('Reward')\n",
    "plt.title('Test reward per episode')\n",
    "\n",
    "plt.show()"
   ]
  },
  {
   "cell_type": "code",
   "execution_count": null,
   "metadata": {},
   "outputs": [],
   "source": []
  },
  {
   "cell_type": "code",
   "execution_count": null,
   "metadata": {},
   "outputs": [],
   "source": []
  }
 ],
 "metadata": {
  "kernelspec": {
   "display_name": "Python 3",
   "language": "python",
   "name": "python3"
  },
  "language_info": {
   "codemirror_mode": {
    "name": "ipython",
    "version": 3
   },
   "file_extension": ".py",
   "mimetype": "text/x-python",
   "name": "python",
   "nbconvert_exporter": "python",
   "pygments_lexer": "ipython3",
   "version": "3.7.6"
  }
 },
 "nbformat": 4,
 "nbformat_minor": 4
}
